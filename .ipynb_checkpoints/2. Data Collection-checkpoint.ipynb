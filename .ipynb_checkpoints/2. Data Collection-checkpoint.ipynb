{
 "cells": [
  {
   "cell_type": "code",
   "execution_count": 13,
   "id": "e745e723-8a2f-4907-9e40-4ef560d97d5d",
   "metadata": {},
   "outputs": [],
   "source": [
    "import pandas as pd\n",
    "import numpy as np\n",
    "import requests\n",
    "from bs4 import BeautifulSoup\n",
    "import time\n",
    "import difflib"
   ]
  },
  {
   "cell_type": "code",
   "execution_count": 2,
   "id": "67326511-a5ec-44fe-aa58-6674fcc36b29",
   "metadata": {},
   "outputs": [],
   "source": [
    "headers = {'User-Agent': \n",
    "           'Mozilla/5.0 (X11; Linux x86_64) AppleWebKit/537.36 (KHTML, like Gecko) Chrome/47.0.2526.106 Safari/537.36'}\n",
    "\n",
    "# Tournaments to scrape from transfermarket.com\"\n",
    "urls = {\"Champions league\": \"https://www.transfermarkt.com/uefa-champions-league/elfmeterschiessen/pokalwettbewerb/CL\",\n",
    "        \"Europa league\": \"https://www.transfermarkt.com/europa-league/elfmeterschiessen/pokalwettbewerb/EL\",\n",
    "        \"Community Shield\": \"https://www.transfermarkt.com/uefa-supercup/elfmeterschiessen/pokalwettbewerb/USC\",\n",
    "        \"World cup\": \"https://www.transfermarkt.com/fifa-klub-wm/elfmeterschiessen/pokalwettbewerb/KLUB\",\n",
    "       \"Euro\": \"https://www.transfermarkt.com/europameisterschaft-2024/elfmeterschiessen/pokalwettbewerb/EM24\",\n",
    "       \"Club world cup\": \"https://www.transfermarkt.com/fifa-klub-wm/elfmeterschiessen/pokalwettbewerb/KLUB\",\n",
    "       \"Afcon\":\"https://www.transfermarkt.com/afrika-cup/elfmeterschiessen/pokalwettbewerb/AFCN\",\n",
    "       \"Copa America\": \"https://www.transfermarkt.com/copa-america-2024/elfmeterschiessen/pokalwettbewerb/CAM4\",\n",
    "       \"FA cup\": \"https://www.transfermarkt.com/fa-cup/elfmeterschiessen/pokalwettbewerb/FAC\",\n",
    "       \"AFC Asian Cup\": \"https://www.transfermarkt.com/afc-asian-cup-2023/elfmeterschiessen/pokalwettbewerb/AM23\",\n",
    "       \"Olympic\":\"https://www.transfermarkt.com/olympische-spiele/elfmeterschiessen/pokalwettbewerb/OLYM\"}"
   ]
  },
  {
   "cell_type": "code",
   "execution_count": 3,
   "id": "f28c3731-9ede-420c-ab71-55adcd940def",
   "metadata": {},
   "outputs": [],
   "source": [
    "def first_shooter(game_url):\n",
    "    \"\"\"\n",
    "    A function that returns the team who started the penalty shootouts\n",
    "    \"\"\"\n",
    "    try:\n",
    "        game_res = requests.get(game_url, headers=headers)\n",
    "        game_soap = BeautifulSoup(game_res.content, 'html.parser')\n",
    "        penalties = game_soap.find(id=\"sb-elfmeterscheissen\")\n",
    "        teams = penalties.find_all(\"div\", {\"class\":\"sb-aktion-wappen\"})\n",
    "        return teams[0].find(\"a\").get(\"title\")\n",
    "    except:\n",
    "        return \"Unknown\""
   ]
  },
  {
   "cell_type": "code",
   "execution_count": 4,
   "id": "b3a92262-d98c-4e34-a82b-913fab9c9e2b",
   "metadata": {},
   "outputs": [],
   "source": [
    "def first_shooter_win(home, away, score, first_shooter):\n",
    "    \"\"\"\n",
    "    A function that returns 1 if the first shooter won. otherwise, returns 0.\n",
    "    \"\"\"\n",
    "    home_score = int(score.split(\":\")[0])\n",
    "    away_score = int(score.split(\":\")[1].split()[0])\n",
    "    if (home == first_shooter) and (home_score > away_score):\n",
    "        return 1\n",
    "    elif (away == first_shooter) and (away_score > home_score):\n",
    "        return 1\n",
    "    else:\n",
    "        return 0"
   ]
  },
  {
   "cell_type": "code",
   "execution_count": 5,
   "id": "24f001f6-3874-4809-a475-59029099d7d1",
   "metadata": {},
   "outputs": [],
   "source": [
    "# Extracting games information\n",
    "df = pd.DataFrame()\n",
    "for tournament, url in urls.items():\n",
    "    res = requests.get(url, headers=headers)\n",
    "    soap = BeautifulSoup(res.content, 'html.parser')\n",
    "    \n",
    "    odd = soap.find_all(\"tr\", {\"class\": \"odd\"})\n",
    "    even = soap.find_all(\"tr\", {\"class\": \"even\"})\n",
    "\n",
    "    games = []\n",
    "    for game in odd + even:\n",
    "        game_a = game.find_all(\"a\")\n",
    "        stage = game_a[0].text\n",
    "        home = game_a[1].text\n",
    "        score = game_a[3].text\n",
    "        away = game_a[5].text\n",
    "        url = \"https://www.transfermarkt.com\" + game.find(\"td\", class_=\"zentriert hauptlink\").find(\"a\")[\"href\"]\n",
    "        games.append({\"tournament\":tournament,\"stage\":stage, \"home\":home,\"score\":score,'away':away,\"url\":url})\n",
    "    tournament_df = pd.DataFrame(games)\n",
    "    tournament_df['first_shooter'] = tournament_df['url'].apply(first_shooter)\n",
    "    df = pd.concat([df, tournament_df])"
   ]
  },
  {
   "cell_type": "code",
   "execution_count": 6,
   "id": "b0e33b3e-b967-402b-9b73-eedb7b5cc7bc",
   "metadata": {},
   "outputs": [],
   "source": [
    "raw_df = df.copy()"
   ]
  },
  {
   "cell_type": "code",
   "execution_count": 7,
   "id": "5807598d-db3f-47a8-9760-5a192aa301c9",
   "metadata": {},
   "outputs": [],
   "source": [
    "# Filtering out the matches with unknown first_shooter\n",
    "df = df[df['first_shooter'] != 'Unknown']\n",
    "\n",
    "# Including only the matches played on neutral ground\n",
    "neutral_ground_tournaments = ['World cup', 'Euro', 'Club world cup', 'Afcon', 'Copa America',\n",
    "                              'AFC Asian Cup', 'Olympic', 'Community Shield']\n",
    "\n",
    "mask_1 = (df['tournament'].isin(neutral_ground_tournaments))\n",
    "mask_2 = (df['tournament'] == 'FA cup') & (df['stage'].isin(['Final', 'Semi-Finals']))\n",
    "mask_3 = (df['tournament'].isin(['Champions league', 'Europa league'])) & (df['stage'] == 'Final')\n",
    "\n",
    "df = df[mask_1 | mask_2 | mask_3]"
   ]
  },
  {
   "cell_type": "code",
   "execution_count": 8,
   "id": "7519bfb2-1633-4169-895e-766e009fa570",
   "metadata": {},
   "outputs": [
    {
     "data": {
      "text/plain": [
       "(195, 7)"
      ]
     },
     "execution_count": 8,
     "metadata": {},
     "output_type": "execute_result"
    }
   ],
   "source": [
    "df.shape"
   ]
  },
  {
   "cell_type": "code",
   "execution_count": 14,
   "id": "db09afc9-230f-417e-8230-3794a3655c5b",
   "metadata": {},
   "outputs": [],
   "source": [
    "# Adjusting the teams' names\n",
    "teams = list(set(list(df['home'].unique()) + list(df['away'].unique())))\n",
    "first_shooter_teams = list(df['first_shooter'].unique())\n",
    "\n",
    "teams_to_handle = []\n",
    "for team in first_shooter_teams:\n",
    "    if team in teams:\n",
    "        pass\n",
    "    else:\n",
    "        teams_to_handle.append(team)\n",
    "\n",
    "teams_to_change = {}\n",
    "for team in teams_to_handle:\n",
    "    names = list(df[df['first_shooter'] == team].iloc[0][['home','away']].values)\n",
    "    teams_to_change[team] = difflib.get_close_matches(team, names, cutoff=0.1)[0]\n",
    "\n",
    "df['first_shooter'] = df['first_shooter'].replace(teams_to_change)"
   ]
  },
  {
   "cell_type": "code",
   "execution_count": 15,
   "id": "3e121295-b83a-4a7e-bd8e-401a835131c1",
   "metadata": {},
   "outputs": [],
   "source": [
    "# Calculating if the first shooter won or not\n",
    "df['First_team_wins'] = df.apply(lambda x: first_shooter_win(x.home, x.away, x.score, x.first_shooter), axis=1)"
   ]
  },
  {
   "cell_type": "code",
   "execution_count": 20,
   "id": "7b2d333d-f594-4eb1-b1de-b707d2a3bb2a",
   "metadata": {},
   "outputs": [],
   "source": [
    "# Saving the data\n",
    "df.to_csv(\"./data/penalty_shootouts.csv\")"
   ]
  },
  {
   "cell_type": "code",
   "execution_count": null,
   "id": "ca15afeb-98e8-4ffc-8185-c90369fdb8a9",
   "metadata": {},
   "outputs": [],
   "source": []
  }
 ],
 "metadata": {
  "kernelspec": {
   "display_name": "Python 3 (ipykernel)",
   "language": "python",
   "name": "python3"
  },
  "language_info": {
   "codemirror_mode": {
    "name": "ipython",
    "version": 3
   },
   "file_extension": ".py",
   "mimetype": "text/x-python",
   "name": "python",
   "nbconvert_exporter": "python",
   "pygments_lexer": "ipython3",
   "version": "3.11.7"
  }
 },
 "nbformat": 4,
 "nbformat_minor": 5
}
