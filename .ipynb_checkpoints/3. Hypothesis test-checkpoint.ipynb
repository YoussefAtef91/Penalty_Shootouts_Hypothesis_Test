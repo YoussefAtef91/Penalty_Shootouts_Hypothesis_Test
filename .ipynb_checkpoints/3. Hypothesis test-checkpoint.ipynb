{
 "cells": [
  {
   "cell_type": "code",
   "execution_count": 1,
   "id": "d294f3e3-2377-488d-9107-b2dcba52dffe",
   "metadata": {},
   "outputs": [],
   "source": [
    "from statsmodels.stats.proportion import proportions_ztest\n",
    "import pandas as pd"
   ]
  },
  {
   "cell_type": "code",
   "execution_count": 2,
   "id": "f865044c-62b0-4196-a1b4-e2c8c370b1da",
   "metadata": {},
   "outputs": [],
   "source": [
    "df = pd.read_csv(\"./data/penalty_shootouts.csv\")"
   ]
  },
  {
   "cell_type": "code",
   "execution_count": 3,
   "id": "f1cca01d-bab2-4da3-8429-7e877dd93ee2",
   "metadata": {},
   "outputs": [],
   "source": [
    "# Count the number of wins and total shootouts\n",
    "num_wins = df[\"First_team_wins\"].sum()\n",
    "total_shootouts = len(df)"
   ]
  },
  {
   "cell_type": "code",
   "execution_count": 4,
   "id": "e2235a30-882f-4fd0-ac1c-80536d446291",
   "metadata": {},
   "outputs": [
    {
     "name": "stdout",
     "output_type": "stream",
     "text": [
      "Observed proportion of wins: 0.559\n",
      "Z-statistic: 1.659\n",
      "P-value: 0.097\n"
     ]
    }
   ],
   "source": [
    "# Perform the z-test\n",
    "null_proportion = 0.5\n",
    "z_stat, p_value = proportions_ztest(count=num_wins, nobs=total_shootouts, value=null_proportion, alternative=\"two-sided\")\n",
    "\n",
    "# Output results\n",
    "print(f\"Observed proportion of wins: {num_wins / total_shootouts:.3f}\")\n",
    "print(f\"Z-statistic: {z_stat:.3f}\")\n",
    "print(f\"P-value: {p_value:.3f}\")"
   ]
  },
  {
   "cell_type": "markdown",
   "id": "3a033aa4-4cc4-4cf2-b697-d63cda53dafe",
   "metadata": {},
   "source": [
    "Since the p-value is bigger than the significance level (0.05), we can say that we failed to reject the null hypothesis. In other words, we cannot conclude that starting the shootout gives a team an advantage (or a disadvantage) over the opponent."
   ]
  },
  {
   "cell_type": "code",
   "execution_count": null,
   "id": "e00f7149-c063-4558-bdde-d42f867ee6f7",
   "metadata": {},
   "outputs": [],
   "source": []
  }
 ],
 "metadata": {
  "kernelspec": {
   "display_name": "Python 3 (ipykernel)",
   "language": "python",
   "name": "python3"
  },
  "language_info": {
   "codemirror_mode": {
    "name": "ipython",
    "version": 3
   },
   "file_extension": ".py",
   "mimetype": "text/x-python",
   "name": "python",
   "nbconvert_exporter": "python",
   "pygments_lexer": "ipython3",
   "version": "3.11.7"
  }
 },
 "nbformat": 4,
 "nbformat_minor": 5
}
