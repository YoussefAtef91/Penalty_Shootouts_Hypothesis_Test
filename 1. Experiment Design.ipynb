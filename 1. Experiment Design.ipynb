{
 "cells": [
  {
   "cell_type": "code",
   "execution_count": 3,
   "id": "c01e6eff-1034-4b53-973c-ddd5410ec013",
   "metadata": {},
   "outputs": [],
   "source": [
    "import pandas as pd\n",
    "import numpy as np\n",
    "from statsmodels.stats.power import NormalIndPower\n",
    "from statsmodels.stats.proportion import proportion_effectsize"
   ]
  },
  {
   "cell_type": "markdown",
   "id": "994a4864-010b-4beb-92a5-95b927117800",
   "metadata": {},
   "source": [
    "## Experiment design\n",
    "$H_{0}: P = 0.5$\n",
    "\n",
    "$H_{a}: P ≠ 0.5$\n",
    "\n",
    "For this hypothesis, we're gonna use a two-tailed z-test for one group."
   ]
  },
  {
   "cell_type": "markdown",
   "id": "c51e3bb2-9abd-470e-91db-9b72b54a180b",
   "metadata": {},
   "source": [
    "## Power Analysis"
   ]
  },
  {
   "cell_type": "code",
   "execution_count": 1,
   "id": "0d02332b-e1f7-4c4d-8538-1223085685d9",
   "metadata": {},
   "outputs": [
    {
     "name": "stdout",
     "output_type": "stream",
     "text": [
      "Minimum sample size required: 197\n"
     ]
    }
   ],
   "source": [
    "from scipy.stats import norm\n",
    "\n",
    "def calculate_min_sample_size(alpha, power, p0, effect_size):\n",
    "    \"\"\"\n",
    "    A function to calculate the minimum sample size for a one-sample proportion test.\n",
    "    \"\"\"\n",
    "    # Calculate Z_(α/2) and Z_β\n",
    "    z_alpha_over_2 = norm.ppf(1 - alpha / 2)\n",
    "    z_beta = norm.ppf(power)\n",
    "\n",
    "    # Calculate sample size using the formula\n",
    "    n = ((z_alpha_over_2 + z_beta) / effect_size) ** 2 * p0 * (1 - p0)\n",
    "\n",
    "    # Round up to the nearest whole number\n",
    "    return int(n) + 1\n",
    "\n",
    "# Input parameters\n",
    "alpha = 0.05  # Significance level\n",
    "power = 0.80  # Desired power\n",
    "p0 = 0.5      # Null hypothesis proportion\n",
    "effect_size = 0.1  # Smallest difference to detect\n",
    "\n",
    "# Calculate minimum sample size\n",
    "min_sample_size = calculate_min_sample_size(alpha, power, p0, effect_size)\n",
    "print(f\"Minimum sample size required: {min_sample_size}\")"
   ]
  },
  {
   "cell_type": "code",
   "execution_count": null,
   "id": "6cd8267b-ca6b-426a-9739-10f8ffbd1e2b",
   "metadata": {},
   "outputs": [],
   "source": []
  }
 ],
 "metadata": {
  "kernelspec": {
   "display_name": "Python 3 (ipykernel)",
   "language": "python",
   "name": "python3"
  },
  "language_info": {
   "codemirror_mode": {
    "name": "ipython",
    "version": 3
   },
   "file_extension": ".py",
   "mimetype": "text/x-python",
   "name": "python",
   "nbconvert_exporter": "python",
   "pygments_lexer": "ipython3",
   "version": "3.11.7"
  }
 },
 "nbformat": 4,
 "nbformat_minor": 5
}
